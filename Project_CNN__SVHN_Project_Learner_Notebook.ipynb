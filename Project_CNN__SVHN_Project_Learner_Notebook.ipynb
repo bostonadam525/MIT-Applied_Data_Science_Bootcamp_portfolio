{
 "cells": [
  {
   "cell_type": "markdown",
   "metadata": {
    "id": "Q91KqmCRu64D"
   },
   "source": [
    "# Project - Convolutional Neural Networks: Street View Housing Number Digit Recognition\n",
    "by Adam M. Lang<br>\n",
    "December 9, 2020<br>\n",
    "\n",
    "----\n",
    "### Context: \n",
    "-------\n",
    "\n",
    "The ability to process visual information using machine learning algorithms can be very useful as demonstrated in various applications. The Street View House Numbers (SVHN) dataset is one of the most popular ones. It has been used in neural networks created by Google to read house numbers and match them to their geolocations. This is a great benchmark dataset to play with, learn and train models that accurately identify street numbers, and incorporate into all sorts of projects.\n",
    "\n",
    "---------\n",
    "### Objective:\n",
    "------------\n",
    "The objective of the exercise is to perform an image classification exercise on the given dataset to come up with a model that can help identify the digit images which have issues like picture brightness, blurriness. \n",
    "\n",
    "--------\n",
    "### More about the dataset\n",
    "------------\n",
    "- The dataset is provided as a .h5 file. \n",
    "\n",
    "\n",
    "\n"
   ]
  },
  {
   "cell_type": "markdown",
   "metadata": {
    "id": "8z2Z7-OAs8QG"
   },
   "source": [
    "### Mount the drive\n",
    "Let us start by mounting the drive."
   ]
  },
  {
   "cell_type": "code",
   "execution_count": 143,
   "metadata": {
    "colab": {
     "base_uri": "https://localhost:8080/"
    },
    "id": "REFUdThmpz_d",
    "outputId": "17cc16e1-6fb1-47dd-8532-1eb17bff9e75"
   },
   "outputs": [
    {
     "name": "stdout",
     "output_type": "stream",
     "text": [
      "Drive already mounted at /content/drive; to attempt to forcibly remount, call drive.mount(\"/content/drive\", force_remount=True).\n"
     ]
    }
   ],
   "source": [
    "from google.colab import drive\n",
    "drive.mount('/content/drive')"
   ]
  },
  {
   "cell_type": "markdown",
   "metadata": {
    "id": "ucnevGLoyKf_"
   },
   "source": [
    "Let us check for the version of installed tensorflow."
   ]
  },
  {
   "cell_type": "code",
   "execution_count": 144,
   "metadata": {
    "colab": {
     "base_uri": "https://localhost:8080/"
    },
    "id": "W5as47YxyJVk",
    "outputId": "f93f13ff-1d3e-448d-c0e4-131402fdcfac"
   },
   "outputs": [
    {
     "name": "stdout",
     "output_type": "stream",
     "text": [
      "2.3.0\n"
     ]
    }
   ],
   "source": [
    "import tensorflow as tf\n",
    "print(tf.__version__)"
   ]
  },
  {
   "cell_type": "markdown",
   "metadata": {
    "id": "8lsux2ZwyTTR"
   },
   "source": [
    "### Load the dataset\n",
    "- Let us now, load the dataset that is available as a .h5 file.\n",
    "- Split the data into train and the test dataset"
   ]
  },
  {
   "cell_type": "code",
   "execution_count": 145,
   "metadata": {
    "id": "BApX9qgNsqV0",
    "scrolled": true
   },
   "outputs": [],
   "source": [
    "import h5py\n",
    "import numpy as np\n",
    "\n",
    "# Open the file as readonly\n",
    "# Make changes in path as required\n",
    "h5f = h5py.File('/content/drive/MyDrive/Colab Notebooks/SVHN_single_grey1.h5', 'r')\n",
    "\n",
    "# Load the training and the test set\n",
    "X_train = h5f['X_train'][:]\n",
    "y_train1 = h5f['y_train'][:]\n",
    "X_test = h5f['X_test'][:]\n",
    "y_test1 = h5f['y_test'][:]\n",
    "\n",
    "\n",
    "# Close this file\n",
    "h5f.close()"
   ]
  },
  {
   "cell_type": "markdown",
   "metadata": {
    "id": "nX4VEpfIyeaW"
   },
   "source": [
    "Let us import the required libraries now."
   ]
  },
  {
   "cell_type": "code",
   "execution_count": 146,
   "metadata": {
    "id": "aTeAO8HpsqV8"
   },
   "outputs": [],
   "source": [
    "## Importing the required libraries\n",
    "import numpy as np\n",
    "from tensorflow.keras.datasets import mnist\n",
    "from tensorflow.keras.models import Sequential\n",
    "from tensorflow.keras.layers import Dense, Conv2D, MaxPool2D, BatchNormalization, Dropout, Flatten, LeakyReLU\n",
    "from tensorflow.keras.utils import to_categorical\n",
    "\n",
    "# fix random seed for reproducibility\n",
    "seed = 7\n",
    "np.random.seed(seed)"
   ]
  },
  {
   "cell_type": "markdown",
   "metadata": {
    "id": "kxODV6HKykuc"
   },
   "source": [
    "### Visualizing images\n",
    "- Use X_train to visualize the first 10 images.\n",
    "- Use Y_train to print the first 10 labels."
   ]
  },
  {
   "cell_type": "code",
   "execution_count": 147,
   "metadata": {
    "colab": {
     "base_uri": "https://localhost:8080/",
     "height": 473
    },
    "id": "E66O9ts52_Vi",
    "outputId": "11da95c9-f06f-48da-acfa-43af4581cf28"
   },
   "outputs": [
    {
     "data": {
      "image/png": "[encoded data removed]",
      "text/plain": [
       "<Figure size 720x72 with 1 Axes>"
      ]
     },
     "metadata": {
      "needs_background": "light",
      "tags": []
     },
     "output_type": "display_data"
    },
    {
     "data": {
      "image/png": "[encoded data removed]",
      "text/plain": [
       "<Figure size 432x288 with 1 Axes>"
      ]
     },
     "metadata": {
      "needs_background": "light",
      "tags": []
     },
     "output_type": "display_data"
    },
    {
     "data": {
      "image/png": "[encoded data removed]",
      "text/plain": [
       "<Figure size 432x288 with 1 Axes>"
      ]
     },
     "metadata": {
      "needs_background": "light",
      "tags": []
     },
     "output_type": "display_data"
    },
    {
     "data": {
      "image/png": "[encoded data removed]",
      "text/plain": [
       "<Figure size 432x288 with 1 Axes>"
      ]
     },
     "metadata": {
      "needs_background": "light",
      "tags": []
     },
     "output_type": "display_data"
    },
    {
     "data": {
      "image/png": "[encoded data removed]",
      "text/plain": [
       "<Figure size 432x288 with 1 Axes>"
      ]
     },
     "metadata": {
      "needs_background": "light",
      "tags": []
     },
     "output_type": "display_data"
    },
    {
     "data": {
      "image/png": "[encoded data removed]",
      "text/plain": [
       "<Figure size 432x288 with 1 Axes>"
      ]
     },
     "metadata": {
      "needs_background": "light",
      "tags": []
     },
     "output_type": "display_data"
    },
    {
     "data": {
      "image/png": "[encoded data removed]",
      "text/plain": [
       "<Figure size 432x288 with 1 Axes>"
      ]
     },
     "metadata": {
      "needs_background": "light",
      "tags": []
     },
     "output_type": "display_data"
    },
    {
     "data": {
      "image/png": "[encoded data removed]",
      "text/plain": [
       "<Figure size 432x288 with 1 Axes>"
      ]
     },
     "metadata": {
      "needs_background": "light",
      "tags": []
     },
     "output_type": "display_data"
    },
    {
     "data": {
      "image/png": "[encoded data removed]",
      "text/plain": [
       "<Figure size 432x288 with 1 Axes>"
      ]
     },
     "metadata": {
      "needs_background": "light",
      "tags": []
     },
     "output_type": "display_data"
    },
    {
     "data": {
      "image/png": "[encoded data removed]",
      "text/plain": [
       "<Figure size 432x288 with 1 Axes>"
      ]
     },
     "metadata": {
      "needs_background": "light",
      "tags": []
     },
     "output_type": "display_data"
    },
    {
     "name": "stdout",
     "output_type": "stream",
     "text": [
      "label for each of the above image: [2 6 7 4 4 0 3 0 7 3]\n"
     ]
    }
   ],
   "source": [
    "# visualizing the first 10 images in the dataset and their labels\n",
    "# Uncomment and fill in the blanks\n",
    "\n",
    "\n",
    "%matplotlib inline\n",
    "import matplotlib.pyplot as plt\n",
    "plt.figure(figsize=(10,1))\n",
    "for i in range(10):\n",
    "  plt.subplot(1, 10, i+1)\n",
    "  plt.imshow(X_train[i].reshape(32,32), cmap=\"gray\")\n",
    "  plt.axis('off')\n",
    "  plt.show()\n",
    "print('label for each of the above image: %s' % (y_train1[0:10]))"
   ]
  },
  {
   "cell_type": "markdown",
   "metadata": {
    "id": "kzoyeXHOy80N"
   },
   "source": [
    "### Data preparation\n",
    "\n",
    "- Print the first image in the train image and figure out the shape of the images.\n",
    "- Reshape the train and the test dataset to make them fit the first convolutional operation that we will create later. Figure out the required shape.\n",
    "- Normalise the train and the test dataset by dividing by 255.\n",
    "- Print the new shapes of the train and the test set. \n",
    "- One hot encode the target variables."
   ]
  },
  {
   "cell_type": "code",
   "execution_count": 148,
   "metadata": {
    "colab": {
     "base_uri": "https://localhost:8080/",
     "height": 334
    },
    "id": "hXumyX5w3Qn1",
    "outputId": "58e51855-7de4-46ab-d861-d63d9f4597d4"
   },
   "outputs": [
    {
     "name": "stdout",
     "output_type": "stream",
     "text": [
      "Shape: (32, 32)\n",
      "\n"
     ]
    },
    {
     "data": {
      "image/png": "[encoded data removed]",
      "text/plain": [
       "<Figure size 432x288 with 1 Axes>"
      ]
     },
     "metadata": {
      "needs_background": "light",
      "tags": []
     },
     "output_type": "display_data"
    },
    {
     "name": "stdout",
     "output_type": "stream",
     "text": [
      "First image:\n",
      " 2\n"
     ]
    }
   ],
   "source": [
    "# Shape of the images and the first image\n",
    "# Uncomment and fill in the blanks\n",
    "\n",
    "print(\"Shape:\", X_train[0].shape)\n",
    "print()\n",
    "plt.imshow(X_train[0],cmap='gray')    \n",
    "plt.show()\n",
    "print(\"First image:\\n\", y_train1[0])"
   ]
  },
  {
   "cell_type": "code",
   "execution_count": 149,
   "metadata": {
    "colab": {
     "base_uri": "https://localhost:8080/"
    },
    "id": "D9YPwf9ysqWU",
    "outputId": "e1d8f680-c8d6-4cbd-c76f-4d62783db2c4"
   },
   "outputs": [
    {
     "name": "stdout",
     "output_type": "stream",
     "text": [
      "(42000, 32, 32, 1)\n",
      "(18000, 32, 32, 1)\n"
     ]
    }
   ],
   "source": [
    "# Reshaping the dataset to flatten them. Remember that we are trying to reshape the 2D image data into a 3D data where there is just one channel\n",
    "\n",
    "#Uncomment below to answer\n",
    "img_rows, img_cols = 32, 32\n",
    "\n",
    "x_train = X_train.reshape(X_train.shape[0], img_rows,img_cols,1)\n",
    "x_test = X_test.reshape(X_test.shape[0], img_rows,img_cols, 1)\n",
    "\n",
    "print(x_train.shape)\n",
    "print(x_test.shape)"
   ]
  },
  {
   "cell_type": "code",
   "execution_count": 150,
   "metadata": {
    "id": "q_yUUTp_mUzB"
   },
   "outputs": [],
   "source": [
    "# Normalize inputs from 0-255 to 0-1\n",
    "\n",
    "# Your code here\n",
    "\n",
    "#For CNN \n",
    "x_train = x_train.astype('float32')\n",
    "x_test =  x_test.astype('float32')\n",
    "\n",
    "#Normalizing the input\n",
    "x_train = x_train / 255.0\n",
    "x_test = x_test / 255.0\n"
   ]
  },
  {
   "cell_type": "code",
   "execution_count": 151,
   "metadata": {
    "colab": {
     "base_uri": "https://localhost:8080/"
    },
    "id": "t7FSqOpamWkH",
    "outputId": "d28b0d41-f1d0-4d89-8092-3a83a3274b02"
   },
   "outputs": [
    {
     "name": "stdout",
     "output_type": "stream",
     "text": [
      "The new shape of the x_train set is: (42000, 32, 32, 1)\n",
      "The new shape of the x_test set is: (18000, 32, 32, 1)\n"
     ]
    }
   ],
   "source": [
    "# New shape \n",
    "print(f\"The new shape of the x_train set is:\",x_train.shape)\n",
    "print(f\"The new shape of the x_test set is:\", x_test.shape)\n"
   ]
  },
  {
   "cell_type": "code",
   "execution_count": 152,
   "metadata": {
    "colab": {
     "base_uri": "https://localhost:8080/"
    },
    "id": "SU4ylU-J5uMg",
    "outputId": "5294226f-a24f-4af1-96c5-1958d363d295"
   },
   "outputs": [
    {
     "name": "stdout",
     "output_type": "stream",
     "text": [
      "(42000, 32, 32, 1) (18000, 32, 32, 1) (42000, 10) (18000, 10)\n"
     ]
    }
   ],
   "source": [
    "# one hot encode output\n",
    "# Your code here\n",
    "\n",
    "y_train = tf.keras.utils.to_categorical(y_train1,num_classes=10)\n",
    "y_test = tf.keras.utils.to_categorical(y_test1,num_classes=10)\n",
    "\n",
    "print(x_train.shape, x_test.shape,y_train.shape, y_test.shape)"
   ]
  },
  {
   "cell_type": "markdown",
   "metadata": {
    "id": "UJDUoaEj1d6e"
   },
   "source": [
    "### Model Building\n",
    "- Write a function that returns a sequential model with the following architecture\n",
    " - First Convolutional layer with 16 filters and kernel size =3. Use the 'same' padding and provide apt input shape.\n",
    " - Add a leaky relu layer next with the value 0.1\n",
    " - First Convolutional layer with 32 filters and kernel size =3. Use the 'same' padding.\n",
    " - Another leakyRelu same as above.\n",
    " - A maxpooling layer with pool size of 2\n",
    " - Flatten the output from the previous layer\n",
    " - Add a dense layer with 32 nodes\n",
    " - Add a leakyRelu layer with slope(0.1)\n",
    " - Add the final output layer with nodes equal to the number of classes and softmax activation.\n",
    " - Compile the model with the categorical_crossentropy loss, adam optmizers (lr = 0.001) and accuracy metric.\n",
    "- Do not fit the model here, just return the compiled model\n",
    "- Call the model and print the model summary\n",
    "- Fit the model on the train data with a validation split of 0.2, batch size = 32, verbose = 1 and 20 epochs. Store the model building history to use it later for visualisation.\n"
   ]
  },
  {
   "cell_type": "code",
   "execution_count": 153,
   "metadata": {
    "id": "Cmi81Gr5sqW-"
   },
   "outputs": [],
   "source": [
    "# define model\n",
    "\n",
    "from tensorflow.keras import losses\n",
    "from tensorflow.keras import optimizers\n",
    "from keras.models import Sequential\n",
    "from keras.layers import Conv2D, MaxPooling2D, Flatten, Dense, Activation, Dropout\n",
    "from keras.layers.advanced_activations import LeakyReLU\n",
    "\n",
    "# Uncomment below to answer\n",
    "\n",
    "def cnn_model_1():\n",
    "  model_1 = Sequential()\n",
    "  #Your code here\n",
    "  #First convolutional layer with 16 filters, kernel size 3, padding same and input shape\n",
    "  model_1.add(Conv2D(filters=16, kernel_size=3, padding=\"same\", input_shape=(32,32,1)))\n",
    "\n",
    "  #Add leaky relu layer with value 0.1\n",
    "  model_1.add(LeakyReLU(0.1))\n",
    "\n",
    "  #First convoluational layer with 32 filters, kernel size 3, use same padding.\n",
    "  model_1.add(Conv2D(filters=32, kernel_size=3, padding=\"same\"))\n",
    "\n",
    "  #Add another leakyRelu same as above\n",
    "  model_1.add(LeakyReLU(0.1))\n",
    "\n",
    "  #Maxpooling layer with pool size of 2\n",
    "  model_1.add(MaxPooling2D(pool_size=2))\n",
    "\n",
    "  #Flatten output from previous layer\n",
    "  model_1.add(Flatten())\n",
    "\n",
    "  #Add a dense layer with 32 nodes\n",
    "  model_1.add(Dense(32))\n",
    "\n",
    "  #Add a leakyRelu layer with slope of 0.1\n",
    "  model_1.add(LeakyReLU(0.1))\n",
    "\n",
    "  #Add the final output layer with nodes equal to the number of classes and softmax activation.\n",
    "  model_1.add(Dense(10, activation='softmax'))\n",
    "\n",
    "  # Compile model\n",
    "  adam = tf.keras.optimizers.Adam(lr=1e-3)\n",
    "  model_1.compile(loss='categorical_crossentropy', optimizer='adam', metrics=['accuracy'])\n",
    "\n",
    "  return model_1\n",
    "\n"
   ]
  },
  {
   "cell_type": "code",
   "execution_count": 154,
   "metadata": {
    "colab": {
     "base_uri": "https://localhost:8080/"
    },
    "id": "tiOOOyHkhQH_",
    "outputId": "b37de1ae-5079-4d97-82cd-07ad97e8df8b"
   },
   "outputs": [
    {
     "name": "stdout",
     "output_type": "stream",
     "text": [
      "Model: \"sequential_14\"\n",
      "_________________________________________________________________\n",
      "Layer (type)                 Output Shape              Param #   \n",
      "=================================================================\n",
      "conv2d_42 (Conv2D)           (None, 32, 32, 16)        160       \n",
      "_________________________________________________________________\n",
      "leaky_re_lu_57 (LeakyReLU)   (None, 32, 32, 16)        0         \n",
      "_________________________________________________________________\n",
      "conv2d_43 (Conv2D)           (None, 32, 32, 32)        4640      \n",
      "_________________________________________________________________\n",
      "leaky_re_lu_58 (LeakyReLU)   (None, 32, 32, 32)        0         \n",
      "_________________________________________________________________\n",
      "max_pooling2d_20 (MaxPooling (None, 16, 16, 32)        0         \n",
      "_________________________________________________________________\n",
      "flatten_16 (Flatten)         (None, 8192)              0         \n",
      "_________________________________________________________________\n",
      "dense_27 (Dense)             (None, 32)                262176    \n",
      "_________________________________________________________________\n",
      "leaky_re_lu_59 (LeakyReLU)   (None, 32)                0         \n",
      "_________________________________________________________________\n",
      "dense_28 (Dense)             (None, 10)                330       \n",
      "=================================================================\n",
      "Total params: 267,306\n",
      "Trainable params: 267,306\n",
      "Non-trainable params: 0\n",
      "_________________________________________________________________\n"
     ]
    }
   ],
   "source": [
    "# Call the function and print the model summary\n",
    "\n",
    "#call function\n",
    "model_1 = cnn_model_1()\n",
    "\n",
    "#print model summary\n",
    "model_1.summary()"
   ]
  },
  {
   "cell_type": "code",
   "execution_count": 155,
   "metadata": {
    "colab": {
     "base_uri": "https://localhost:8080/"
    },
    "id": "bGCUI_xsImnH",
    "outputId": "9d68af3e-94a0-4937-cfd3-f57f84f97fe7"
   },
   "outputs": [
    {
     "name": "stdout",
     "output_type": "stream",
     "text": [
      "Epoch 1/20\n",
      "1050/1050 [==============================] - 4s 4ms/step - loss: 1.1375 - accuracy: 0.6243 - val_loss: 0.6066 - val_accuracy: 0.8273\n",
      "Epoch 2/20\n",
      "1050/1050 [==============================] - 4s 3ms/step - loss: 0.5253 - accuracy: 0.8469 - val_loss: 0.5265 - val_accuracy: 0.8470\n",
      "Epoch 3/20\n",
      "1050/1050 [==============================] - 4s 3ms/step - loss: 0.4356 - accuracy: 0.8697 - val_loss: 0.4804 - val_accuracy: 0.8636\n",
      "Epoch 4/20\n",
      "1050/1050 [==============================] - 4s 3ms/step - loss: 0.3799 - accuracy: 0.8880 - val_loss: 0.4560 - val_accuracy: 0.8677\n",
      "Epoch 5/20\n",
      "1050/1050 [==============================] - 4s 3ms/step - loss: 0.3383 - accuracy: 0.8988 - val_loss: 0.4361 - val_accuracy: 0.8779\n",
      "Epoch 6/20\n",
      "1050/1050 [==============================] - 4s 3ms/step - loss: 0.3013 - accuracy: 0.9090 - val_loss: 0.4405 - val_accuracy: 0.8799\n",
      "Epoch 7/20\n",
      "1050/1050 [==============================] - 4s 3ms/step - loss: 0.2660 - accuracy: 0.9198 - val_loss: 0.4587 - val_accuracy: 0.8733\n",
      "Epoch 8/20\n",
      "1050/1050 [==============================] - 4s 3ms/step - loss: 0.2398 - accuracy: 0.9274 - val_loss: 0.4470 - val_accuracy: 0.8819\n",
      "Epoch 9/20\n",
      "1050/1050 [==============================] - 4s 3ms/step - loss: 0.2136 - accuracy: 0.9348 - val_loss: 0.4872 - val_accuracy: 0.8750\n",
      "Epoch 10/20\n",
      "1050/1050 [==============================] - 4s 3ms/step - loss: 0.1926 - accuracy: 0.9402 - val_loss: 0.4859 - val_accuracy: 0.8770\n",
      "Epoch 11/20\n",
      "1050/1050 [==============================] - 4s 3ms/step - loss: 0.1725 - accuracy: 0.9470 - val_loss: 0.5285 - val_accuracy: 0.8768\n",
      "Epoch 12/20\n",
      "1050/1050 [==============================] - 4s 4ms/step - loss: 0.1575 - accuracy: 0.9502 - val_loss: 0.5626 - val_accuracy: 0.8740\n",
      "Epoch 13/20\n",
      "1050/1050 [==============================] - 4s 4ms/step - loss: 0.1437 - accuracy: 0.9532 - val_loss: 0.5762 - val_accuracy: 0.8743\n",
      "Epoch 14/20\n",
      "1050/1050 [==============================] - 4s 4ms/step - loss: 0.1227 - accuracy: 0.9612 - val_loss: 0.5833 - val_accuracy: 0.8743\n",
      "Epoch 15/20\n",
      "1050/1050 [==============================] - 4s 4ms/step - loss: 0.1163 - accuracy: 0.9635 - val_loss: 0.6102 - val_accuracy: 0.8692\n",
      "Epoch 16/20\n",
      "1050/1050 [==============================] - 4s 3ms/step - loss: 0.1013 - accuracy: 0.9682 - val_loss: 0.6877 - val_accuracy: 0.8668\n",
      "Epoch 17/20\n",
      "1050/1050 [==============================] - 4s 4ms/step - loss: 0.0959 - accuracy: 0.9696 - val_loss: 0.6694 - val_accuracy: 0.8730\n",
      "Epoch 18/20\n",
      "1050/1050 [==============================] - 4s 3ms/step - loss: 0.0843 - accuracy: 0.9723 - val_loss: 0.7121 - val_accuracy: 0.8742\n",
      "Epoch 19/20\n",
      "1050/1050 [==============================] - 4s 3ms/step - loss: 0.0760 - accuracy: 0.9748 - val_loss: 0.8064 - val_accuracy: 0.8687\n",
      "Epoch 20/20\n",
      "1050/1050 [==============================] - 4s 3ms/step - loss: 0.0730 - accuracy: 0.9766 - val_loss: 0.7628 - val_accuracy: 0.8704\n"
     ]
    }
   ],
   "source": [
    "# Fit the model and save the history\n",
    "# Uncomment below to answer\n",
    "\n",
    "history_model_1 = model_1.fit(\n",
    "                  x_train, y_train,\n",
    "                  epochs=20,\n",
    "                  validation_data=(x_test,y_test),\n",
    "                  validation_split=0.2,\n",
    "                  batch_size=32,\n",
    "                  verbose=1)\n",
    "\n",
    "\n"
   ]
  },
  {
   "cell_type": "markdown",
   "metadata": {
    "id": "tKOckG-KPyLg"
   },
   "source": [
    "### Plotting the validation and training accuracies"
   ]
  },
  {
   "cell_type": "code",
   "execution_count": 156,
   "metadata": {
    "colab": {
     "base_uri": "https://localhost:8080/",
     "height": 513
    },
    "id": "5Qm1DF2lCD54",
    "outputId": "53a04a9a-a857-4e97-88a7-50a7611e031e"
   },
   "outputs": [
    {
     "data": {
      "image/png": "[encoded data removed]",
      "text/plain": [
       "<Figure size 576x576 with 1 Axes>"
      ]
     },
     "metadata": {
      "needs_background": "light",
      "tags": []
     },
     "output_type": "display_data"
    }
   ],
   "source": [
    "# plotting the accuracies\n",
    "\n",
    "\n",
    "dict_hist = history_model_1.history\n",
    "list_ep = [i for i in range(1,21)]\n",
    "\n",
    "plt.figure(figsize = (8,8))\n",
    "\n",
    "plt.plot(list_ep,dict_hist['accuracy'])\n",
    "plt.plot(list_ep, dict_hist['val_accuracy'])\n",
    "plt.ylabel('Accuracy')\n",
    "plt.xlabel('Epochs')\n",
    "plt.title(\"Model Accuracy\")\n",
    "plt.legend(['train', 'test'], loc='upper left')\n",
    "plt.show()"
   ]
  },
  {
   "cell_type": "markdown",
   "metadata": {
    "id": "pGBbQpLONX7k"
   },
   "source": [
    "**Comments**\n",
    "- The Training data appears to be more accurate than the testing data when run through the model. The model increases accuracy as the epochs increases to 20 finally reaching an accuracy of about 98%. \n",
    "- The testing data is rather interesting when run through the model. It appears that the accuracy starts out at just above 80% and then at about 7.5 epochs it peaks at about 87% accuracy and then wavers around that number staying consistent until the 20th epoch.\n",
    "- I guess we can say the model is consistent if the accuracy stays the same at above 85% for a majority of the iterations/epochs. "
   ]
  },
  {
   "cell_type": "code",
   "execution_count": 157,
   "metadata": {
    "colab": {
     "base_uri": "https://localhost:8080/",
     "height": 513
    },
    "id": "GD8Dvtu9BaJf",
    "outputId": "97e6f9a3-aed5-406d-ee50-ff6632e7b97a"
   },
   "outputs": [
    {
     "data": {
      "image/png": "[encoded data removed]",
      "text/plain": [
       "<Figure size 576x576 with 1 Axes>"
      ]
     },
     "metadata": {
      "needs_background": "light",
      "tags": []
     },
     "output_type": "display_data"
    }
   ],
   "source": [
    "# plotting the model loss\n",
    "# Uncomment and fill in the blanks\n",
    "\n",
    "\n",
    "dict_hist = history_model_1.history\n",
    "list_ep = [i for i in range(1,21)]\n",
    "\n",
    "plt.figure(figsize = (8,8))\n",
    "\n",
    "plt.plot(list_ep,dict_hist['loss'])\n",
    "plt.plot(list_ep, dict_hist['val_loss'])\n",
    "plt.ylabel('Loss')\n",
    "plt.xlabel('Epochs')\n",
    "plt.title(\"Model Loss\")\n",
    "plt.legend(['train', 'test'], loc='upper left')\n",
    "plt.show()"
   ]
  },
  {
   "cell_type": "code",
   "execution_count": null,
   "metadata": {
    "id": "d48mXtTfBlFD"
   },
   "outputs": [],
   "source": []
  },
  {
   "cell_type": "markdown",
   "metadata": {
    "id": "8FFH6g_YBtaj"
   },
   "source": [
    "**Comments**\n",
    "- The model loss is plotted above. The loss for the training set minimizes over the 20 epochs consistently shrinking to almost zero. \n",
    "- The model loss for the test set is far worse and increases as the number of epochs increases indicating it is not a good model. The loss increases to almost 0.8. "
   ]
  },
  {
   "cell_type": "markdown",
   "metadata": {
    "id": "UYuifEqxBrbs"
   },
   "source": []
  },
  {
   "cell_type": "markdown",
   "metadata": {
    "id": "jW-NhoXXm2b9"
   },
   "source": [
    "### Iteration 2\n",
    "- Experiment with adding dropout layers to make the model generalise better and report the results.\n",
    "- Feel free to explore various architectures that can help you generalise better.\n",
    "- Repeat all the steps done above and plot the results"
   ]
  },
  {
   "cell_type": "code",
   "execution_count": 158,
   "metadata": {
    "id": "yK2-l8b9EeBo"
   },
   "outputs": [],
   "source": [
    "#Uncomment below and complete \n",
    "\n",
    "def cnn_model_2():\n",
    "  model_2 = Sequential()\n",
    "\n",
    "  #First convolutional layer with 16 filters, kernel size 3, padding same and input shape\n",
    "  model_2.add(Conv2D(filters=16, kernel_size=3, padding=\"same\", input_shape=(32,32,1)))\n",
    "\n",
    "  #Add leaky relu layer with value 0.1\n",
    "  model_2.add(LeakyReLU(0.1))\n",
    "\n",
    "  # adding dropout to randomly switch off 20% neurons to reduce overfitting\n",
    "  model_2.add(Dropout(0.2))\n",
    "\n",
    "  #Second convoluational layer with 32 filters, kernel size 3, use same padding.\n",
    "  model_2.add(Conv2D(filters=32, kernel_size=3, padding=\"same\"))\n",
    "\n",
    "  #Add another leakyRelu same as above\n",
    "  model_2.add(LeakyReLU(0.1))\n",
    "\n",
    "  # adding max pooling to reduce the size of output of second conv layer\n",
    "  model_2.add(MaxPooling2D(pool_size=2))\n",
    "\n",
    "  # adding dropout to randomly switch off 25% neurons to reduce overfitting\n",
    "  model_2.add(Dropout(0.25))\n",
    "\n",
    "  # add third conv layer with 32 filters and with kernel size 3\n",
    "  model_2.add(Conv2D(filters=32, kernel_size=3, padding='same'))\n",
    "\n",
    "  # add leaky relu activation function with negative slope of 0.1\n",
    "  model_2.add(LeakyReLU(0.1))\n",
    "\n",
    "  # add fourth conv layer with 64 filters and with kernel size 3\n",
    "  model_2.add(Conv2D(filters=64, kernel_size=3, padding='same'))\n",
    "\n",
    "  # adding leaky relu activation function with negative slope of 0.1\n",
    "  model_2.add(LeakyReLU(0.1))\n",
    "\n",
    "  #Maxpooling layer with pool size of 2\n",
    "  model_2.add(MaxPooling2D(pool_size=2))\n",
    "\n",
    "  # adding dropout to randomly switch off 50% of network to reduce overfitting\n",
    "  model_2.add(Dropout(0.50))\n",
    "\n",
    "  #Flatten output from previous layer\n",
    "  model_2.add(Flatten())\n",
    "\n",
    "  #Add a dense layer with 32 nodes\n",
    "  model_2.add(Dense(32))\n",
    "\n",
    "  #Add a leakyRelu layer with slope of 0.1\n",
    "  model_2.add(LeakyReLU(0.1))\n",
    "\n",
    "  # adding dropout to randomly switch off 50% neurons to reduce overfitting\n",
    "  model_2.add(Dropout(0.5))\n",
    "\n",
    "  #Add the final output layer with nodes equal to the number of classes and softmax activation.\n",
    "  model_2.add(Dense(10, activation='softmax'))\n",
    "\n",
    "\n",
    "  # Compile model\n",
    "  adam = tf.keras.optimizers.Adam(lr=1e-3)\n",
    "  model_2.compile(loss='categorical_crossentropy', optimizer='adam', metrics=['accuracy'])\n",
    "\n",
    "  return model_2\n",
    "\n"
   ]
  },
  {
   "cell_type": "code",
   "execution_count": 159,
   "metadata": {
    "colab": {
     "base_uri": "https://localhost:8080/"
    },
    "id": "cu2ydBfHnlx1",
    "outputId": "b27088e6-2645-494f-d085-c944125fdda2"
   },
   "outputs": [
    {
     "name": "stdout",
     "output_type": "stream",
     "text": [
      "Model: \"sequential_15\"\n",
      "_________________________________________________________________\n",
      "Layer (type)                 Output Shape              Param #   \n",
      "=================================================================\n",
      "conv2d_44 (Conv2D)           (None, 32, 32, 16)        160       \n",
      "_________________________________________________________________\n",
      "leaky_re_lu_60 (LeakyReLU)   (None, 32, 32, 16)        0         \n",
      "_________________________________________________________________\n",
      "dropout_44 (Dropout)         (None, 32, 32, 16)        0         \n",
      "_________________________________________________________________\n",
      "conv2d_45 (Conv2D)           (None, 32, 32, 32)        4640      \n",
      "_________________________________________________________________\n",
      "leaky_re_lu_61 (LeakyReLU)   (None, 32, 32, 32)        0         \n",
      "_________________________________________________________________\n",
      "max_pooling2d_21 (MaxPooling (None, 16, 16, 32)        0         \n",
      "_________________________________________________________________\n",
      "dropout_45 (Dropout)         (None, 16, 16, 32)        0         \n",
      "_________________________________________________________________\n",
      "conv2d_46 (Conv2D)           (None, 16, 16, 32)        9248      \n",
      "_________________________________________________________________\n",
      "leaky_re_lu_62 (LeakyReLU)   (None, 16, 16, 32)        0         \n",
      "_________________________________________________________________\n",
      "conv2d_47 (Conv2D)           (None, 16, 16, 64)        18496     \n",
      "_________________________________________________________________\n",
      "leaky_re_lu_63 (LeakyReLU)   (None, 16, 16, 64)        0         \n",
      "_________________________________________________________________\n",
      "max_pooling2d_22 (MaxPooling (None, 8, 8, 64)          0         \n",
      "_________________________________________________________________\n",
      "dropout_46 (Dropout)         (None, 8, 8, 64)          0         \n",
      "_________________________________________________________________\n",
      "flatten_17 (Flatten)         (None, 4096)              0         \n",
      "_________________________________________________________________\n",
      "dense_29 (Dense)             (None, 32)                131104    \n",
      "_________________________________________________________________\n",
      "leaky_re_lu_64 (LeakyReLU)   (None, 32)                0         \n",
      "_________________________________________________________________\n",
      "dropout_47 (Dropout)         (None, 32)                0         \n",
      "_________________________________________________________________\n",
      "dense_30 (Dense)             (None, 10)                330       \n",
      "=================================================================\n",
      "Total params: 163,978\n",
      "Trainable params: 163,978\n",
      "Non-trainable params: 0\n",
      "_________________________________________________________________\n"
     ]
    }
   ],
   "source": [
    "#Call the function and print model summary\n",
    "\n",
    "#Your code here\n",
    "#call function\n",
    "model_2 = cnn_model_2()\n",
    "\n",
    "#print model summary\n",
    "model_2.summary()\n"
   ]
  },
  {
   "cell_type": "code",
   "execution_count": 160,
   "metadata": {
    "colab": {
     "base_uri": "https://localhost:8080/"
    },
    "id": "3x_GZq2-n-QO",
    "outputId": "25a651fa-2cab-4cf0-9b46-daf9c882dcc2"
   },
   "outputs": [
    {
     "name": "stdout",
     "output_type": "stream",
     "text": [
      "Epoch 1/20\n",
      "1050/1050 [==============================] - 5s 5ms/step - loss: 2.2798 - accuracy: 0.1128 - val_loss: 1.5747 - val_accuracy: 0.4605\n",
      "Epoch 2/20\n",
      "1050/1050 [==============================] - 5s 5ms/step - loss: 1.0667 - accuracy: 0.6512 - val_loss: 0.5886 - val_accuracy: 0.8263\n",
      "Epoch 3/20\n",
      "1050/1050 [==============================] - 5s 5ms/step - loss: 0.7617 - accuracy: 0.7604 - val_loss: 0.4835 - val_accuracy: 0.8575\n",
      "Epoch 4/20\n",
      "1050/1050 [==============================] - 5s 5ms/step - loss: 0.6730 - accuracy: 0.7926 - val_loss: 0.4555 - val_accuracy: 0.8673\n",
      "Epoch 5/20\n",
      "1050/1050 [==============================] - 5s 5ms/step - loss: 0.6182 - accuracy: 0.8088 - val_loss: 0.4191 - val_accuracy: 0.8827\n",
      "Epoch 6/20\n",
      "1050/1050 [==============================] - 5s 5ms/step - loss: 0.5936 - accuracy: 0.8182 - val_loss: 0.3878 - val_accuracy: 0.8912\n",
      "Epoch 7/20\n",
      "1050/1050 [==============================] - 5s 5ms/step - loss: 0.5582 - accuracy: 0.8271 - val_loss: 0.3702 - val_accuracy: 0.8949\n",
      "Epoch 8/20\n",
      "1050/1050 [==============================] - 5s 5ms/step - loss: 0.5461 - accuracy: 0.8336 - val_loss: 0.3813 - val_accuracy: 0.8942\n",
      "Epoch 9/20\n",
      "1050/1050 [==============================] - 5s 5ms/step - loss: 0.5175 - accuracy: 0.8407 - val_loss: 0.3467 - val_accuracy: 0.8996\n",
      "Epoch 10/20\n",
      "1050/1050 [==============================] - 5s 5ms/step - loss: 0.5048 - accuracy: 0.8463 - val_loss: 0.3761 - val_accuracy: 0.8924\n",
      "Epoch 11/20\n",
      "1050/1050 [==============================] - 5s 4ms/step - loss: 0.4962 - accuracy: 0.8507 - val_loss: 0.3413 - val_accuracy: 0.9036\n",
      "Epoch 12/20\n",
      "1050/1050 [==============================] - 5s 5ms/step - loss: 0.4853 - accuracy: 0.8529 - val_loss: 0.3549 - val_accuracy: 0.8998\n",
      "Epoch 13/20\n",
      "1050/1050 [==============================] - 5s 5ms/step - loss: 0.4745 - accuracy: 0.8557 - val_loss: 0.3307 - val_accuracy: 0.9080\n",
      "Epoch 14/20\n",
      "1050/1050 [==============================] - 5s 4ms/step - loss: 0.4750 - accuracy: 0.8557 - val_loss: 0.3266 - val_accuracy: 0.9119\n",
      "Epoch 15/20\n",
      "1050/1050 [==============================] - 5s 4ms/step - loss: 0.4635 - accuracy: 0.8596 - val_loss: 0.3734 - val_accuracy: 0.8927\n",
      "Epoch 16/20\n",
      "1050/1050 [==============================] - 5s 4ms/step - loss: 0.4547 - accuracy: 0.8629 - val_loss: 0.3157 - val_accuracy: 0.9117\n",
      "Epoch 17/20\n",
      "1050/1050 [==============================] - 5s 4ms/step - loss: 0.4434 - accuracy: 0.8668 - val_loss: 0.3228 - val_accuracy: 0.9104\n",
      "Epoch 18/20\n",
      "1050/1050 [==============================] - 5s 4ms/step - loss: 0.4305 - accuracy: 0.8658 - val_loss: 0.3101 - val_accuracy: 0.9163\n",
      "Epoch 19/20\n",
      "1050/1050 [==============================] - 5s 5ms/step - loss: 0.4314 - accuracy: 0.8688 - val_loss: 0.3222 - val_accuracy: 0.9111\n",
      "Epoch 20/20\n",
      "1050/1050 [==============================] - 5s 4ms/step - loss: 0.4347 - accuracy: 0.8675 - val_loss: 0.3129 - val_accuracy: 0.9140\n"
     ]
    }
   ],
   "source": [
    "# Fit the model\n",
    "# Uncomment below and complete\n",
    "history_model_2 = model_2.fit( x_train, y_train,\n",
    "                  epochs=20,\n",
    "                  validation_data=(x_test,y_test),\n",
    "                  validation_split=0.2,\n",
    "                  batch_size=32,\n",
    "                  verbose=1)"
   ]
  },
  {
   "cell_type": "code",
   "execution_count": 161,
   "metadata": {
    "colab": {
     "base_uri": "https://localhost:8080/",
     "height": 513
    },
    "id": "RjYchTv2pnsW",
    "outputId": "e454958d-0dd5-4a39-bea0-45990d89b212"
   },
   "outputs": [
    {
     "data": {
      "image/png": "[encoded data removed]",
      "text/plain": [
       "<Figure size 576x576 with 1 Axes>"
      ]
     },
     "metadata": {
      "needs_background": "light",
      "tags": []
     },
     "output_type": "display_data"
    }
   ],
   "source": [
    "# plotting the accuracies\n",
    "\n",
    "#Your code here\n",
    "\n",
    "dict_hist = history_model_2.history\n",
    "list_ep = [i for i in range(1,21)]\n",
    "\n",
    "plt.figure(figsize = (8,8))\n",
    "\n",
    "plt.plot(list_ep,dict_hist['accuracy'])\n",
    "plt.plot(list_ep, dict_hist['val_accuracy'])\n",
    "plt.ylabel('Accuracy')\n",
    "plt.xlabel('Epochs')\n",
    "plt.title(\"Model Accuracy\")\n",
    "plt.legend(['train', 'test'], loc='upper left')\n",
    "plt.show()"
   ]
  },
  {
   "cell_type": "markdown",
   "metadata": {
    "id": "HWr-tucap_TE"
   },
   "source": [
    "#### Comments:\n",
    "- This is a much improved model than the first iteration. This 2nd model did much better on the test set with an accuracy of around 85% starting at epoch 5 and continuing to stay around 90% accuracy or better until the 20th epoch. This proves the model performs much better than the previous model on data it has not seen (test data). \n",
    "- The training data also remained just as consistent this time with the test data but with slightly less accuracy in the mid 80% range and steadily improving to the 20th epoch at just below 90%. "
   ]
  },
  {
   "cell_type": "code",
   "execution_count": 163,
   "metadata": {
    "colab": {
     "base_uri": "https://localhost:8080/",
     "height": 513
    },
    "id": "CY9kha1ICZyj",
    "outputId": "4736b808-aa62-41a4-f92c-b72144de72ab"
   },
   "outputs": [
    {
     "data": {
      "image/png": "[encoded data removed]",
      "text/plain": [
       "<Figure size 576x576 with 1 Axes>"
      ]
     },
     "metadata": {
      "needs_background": "light",
      "tags": []
     },
     "output_type": "display_data"
    }
   ],
   "source": [
    "# plotting the model loss\n",
    "# Uncomment and fill in the blanks\n",
    "\n",
    "\n",
    "dict_hist = history_model_2.history\n",
    "list_ep = [i for i in range(1,21)]\n",
    "\n",
    "plt.figure(figsize = (8,8))\n",
    "\n",
    "plt.plot(list_ep,dict_hist['loss'])\n",
    "plt.plot(list_ep, dict_hist['val_loss'])\n",
    "plt.ylabel('Loss')\n",
    "plt.xlabel('Epochs')\n",
    "plt.title(\"Model Loss\")\n",
    "plt.legend(['train', 'test'], loc='upper left')\n",
    "plt.show()"
   ]
  },
  {
   "cell_type": "code",
   "execution_count": null,
   "metadata": {
    "id": "ITJYzsoyCk-d"
   },
   "outputs": [],
   "source": []
  },
  {
   "cell_type": "markdown",
   "metadata": {
    "id": "V1DYP8RHCy2K"
   },
   "source": [
    "**Comments**\n",
    "- The model loss is significantly improved mostly for the test set indicating model_2 is a much better model. The loss decreases quickly and continues to decrease all the way to the 20th epoch for the test data and training data respectively. \n",
    "- This means the model continues to make better predictions of the images on the test data and performs better than the training data."
   ]
  },
  {
   "cell_type": "markdown",
   "metadata": {
    "id": "WiEcV1DCClhN"
   },
   "source": [
    "**Comments**"
   ]
  },
  {
   "cell_type": "markdown",
   "metadata": {
    "id": "8kuXx9Bvu00f"
   },
   "source": [
    "### Test set prediction and final comments (Using the better model of the two iterations)\n",
    "- predict on the test set and comment on the results obtained.\n"
   ]
  },
  {
   "cell_type": "code",
   "execution_count": 164,
   "metadata": {
    "id": "xGTT2IBln28I"
   },
   "outputs": [],
   "source": [
    "#making predictions on test set\n",
    "y_pred_test = model_2.predict(x_test)\n",
    "y_pred_test_classes = np.argmax(y_pred_test, axis=1)\n",
    "y_pred_test_max_probas = np.max(y_pred_test, axis=1)"
   ]
  },
  {
   "cell_type": "code",
   "execution_count": 165,
   "metadata": {
    "colab": {
     "base_uri": "https://localhost:8080/"
    },
    "id": "kB8P4o3E6JWC",
    "outputId": "36e76316-66b1-422d-9ff4-9eafc758848a"
   },
   "outputs": [
    {
     "name": "stdout",
     "output_type": "stream",
     "text": [
      "563/563 [==============================] - 2s 3ms/step - loss: 0.2865 - accuracy: 1.0000\n",
      "Test accuracy is: 1.0000 \n",
      "Test loss is: 0.2865\n"
     ]
    }
   ],
   "source": [
    "# Evaluate model on test data\n",
    "test_loss, test_acc = model_2.evaluate(x=x_test, y=y_pred_test, verbose=1)\n",
    "\n",
    "print('Test accuracy is: {:0.4f} \\nTest loss is: {:0.4f}'.\n",
    "      format(test_acc, test_loss))"
   ]
  },
  {
   "cell_type": "code",
   "execution_count": 166,
   "metadata": {
    "colab": {
     "base_uri": "https://localhost:8080/",
     "height": 513
    },
    "id": "eR4hdqt7vAvJ",
    "outputId": "5d7fd1f4-1d95-414d-f02f-4b955abb54b8"
   },
   "outputs": [
    {
     "data": {
      "image/png": "[encoded data removed]",
      "text/plain": [
       "<Figure size 864x576 with 2 Axes>"
      ]
     },
     "metadata": {
      "needs_background": "light",
      "tags": []
     },
     "output_type": "display_data"
    }
   ],
   "source": [
    "from sklearn.metrics import confusion_matrix\n",
    "import seaborn as sns\n",
    "\n",
    "# Set the figure size\n",
    "plt.figure(figsize=(12, 8))\n",
    "\n",
    "# Calculate the confusion matrix\n",
    "cm = confusion_matrix(y_true=np.argmax(y_test, axis=1), y_pred=y_pred_test_classes)\n",
    "\n",
    "# Normalize the confusion matrix\n",
    "cm = cm.astype('float') / cm.sum(axis=1)[:, np.newaxis] * 100.0\n",
    "\n",
    "# Visualize the confusion matrix\n",
    "sns.heatmap(cm, annot=True, cmap='Reds', fmt='.1f', square=True);\n",
    "plt.title('Confusion Matrix')\n",
    "plt.xlabel('Predicted Label')\n",
    "plt.ylabel('True Label')\n",
    "plt.show()"
   ]
  },
  {
   "cell_type": "markdown",
   "metadata": {
    "id": "DjErl4GA2u9s"
   },
   "source": [
    "#### Comments\n",
    "- The accuracy is significant at 1.00 for the predictions the model makes. \n",
    "- The confusion matrix shows that for example when predicting a 9, 90% of the time you will get a 9. When predicting a 5, 91.7% of the time you will get a 5. \n",
    "- The confusion matrix also shows us that if we predict a 3, 1.2% of the time we will get an 8, but also if we predict a 3, 85.9% of the time we will get a 3 so we are still getting more accurate predictions.\n",
    "- So what this means is that the model is very accurate. \n",
    "- The accuracy score is 1.00 on the test set, and the loss is 0.2865 which is very low and minimized which we would like. \n",
    "- Overall we can say that CNN model_2 performed very well on the image dataset and the task of predicting and identifying digit images. \n"
   ]
  },
  {
   "cell_type": "code",
   "execution_count": null,
   "metadata": {
    "id": "e5ZGAuNBqznd"
   },
   "outputs": [],
   "source": []
  }
 ],
 "metadata": {
  "accelerator": "GPU",
  "colab": {
   "collapsed_sections": [],
   "name": "Project CNN_ SVHN Project - Learner Notebook.ipynb",
   "provenance": [],
   "toc_visible": true
  },
  "kernelspec": {
   "display_name": "Python 3",
   "language": "python",
   "name": "python3"
  },
  "language_info": {
   "codemirror_mode": {
    "name": "ipython",
    "version": 3
   },
   "file_extension": ".py",
   "mimetype": "text/x-python",
   "name": "python",
   "nbconvert_exporter": "python",
   "pygments_lexer": "ipython3",
   "version": "3.7.4"
  },
  "toc": {
   "base_numbering": 1,
   "nav_menu": {},
   "number_sections": true,
   "sideBar": true,
   "skip_h1_title": false,
   "title_cell": "Table of Contents",
   "title_sidebar": "Contents",
   "toc_cell": false,
   "toc_position": {},
   "toc_section_display": true,
   "toc_window_display": false
  }
 },
 "nbformat": 4,
 "nbformat_minor": 1
}
