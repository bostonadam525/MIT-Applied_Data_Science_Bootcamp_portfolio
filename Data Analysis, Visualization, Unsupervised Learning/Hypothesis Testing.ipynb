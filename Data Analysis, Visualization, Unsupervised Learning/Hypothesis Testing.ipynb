{
 "cells": [
  {
   "cell_type": "markdown",
   "metadata": {
    "id": "nSp0n7IorUr5"
   },
   "source": [
    "## Hypothesis Testing - HIP Study"
   ]
  },
  {
   "cell_type": "markdown",
   "metadata": {
    "id": "KrymCR87rgjO"
   },
   "source": [
    "### Importing the necessary libraries"
   ]
  },
  {
   "cell_type": "code",
   "execution_count": 1,
   "metadata": {
    "colab": {
     "base_uri": "https://localhost:8080/"
    },
    "executionInfo": {
     "elapsed": 3195,
     "status": "ok",
     "timestamp": 1604416650270,
     "user": {
      "displayName": "Nitin Varshney",
      "photoUrl": "",
      "userId": "06389275563252613832"
     },
     "user_tz": -330
    },
    "id": "crFRv6yarUr7",
    "outputId": "d3bc1177-7750-4c15-d8c5-5da1639ec7be"
   },
   "outputs": [],
   "source": [
    "import scipy.stats as stats\n",
    "import numpy as np\n",
    "import matplotlib.pyplot as plt\n",
    "from statsmodels.stats.proportion import proportions_ztest\n",
    "import seaborn as sns\n",
    "from scipy.stats import binom"
   ]
  },
  {
   "cell_type": "markdown",
   "metadata": {
    "id": "iCZOSk1crUsF"
   },
   "source": [
    "| Group size|Breast Cancer||All Other|\n",
    "|-----------|-------------||---------|\n",
    "|           |No. , Rate|| No. , Rate|\n",
    "|Treatment|\n",
    "|Screened 20,200     |23 , 1.1     ||428 , 21 |\n",
    "|Refused 10,800     |16 , 1.5     ||409 , 38 |\n",
    "|Total 31,000     |39 , 1.3     ||837 , 27 |\n",
    "|Control 31,000     |63 , 2.0     ||879 , 28 |"
   ]
  },
  {
   "cell_type": "markdown",
   "metadata": {
    "id": "OYh55JX0rUsG"
   },
   "source": [
    "**We are performing  the hypothesis test to check whether the difference in death rates between the treatment and control group is sufficient to establish that offering mammography reduces the risk of death from breast cancer**"
   ]
  },
  {
   "cell_type": "markdown",
   "metadata": {
    "id": "cUurstIjscAF"
   },
   "source": [
    "#### Binomial Distribution"
   ]
  },
  {
   "cell_type": "markdown",
   "metadata": {
    "id": "kwqEWubirUsH"
   },
   "source": [
    "**Null hypothesis (H0): π = 0.002**\n",
    "\n",
    "**Alternative (HA): π < 0.002**"
   ]
  },
  {
   "cell_type": "markdown",
   "metadata": {
    "id": "vmqZ104nrUsJ"
   },
   "source": [
    "* Total nuber of trials/observations = 31,000\n",
    "* Hypothesized probability = 0.02\n",
    "* Number of trials/observations = 39"
   ]
  },
  {
   "cell_type": "code",
   "execution_count": 2,
   "metadata": {},
   "outputs": [],
   "source": [
    "stats.binom_test?"
   ]
  },
  {
   "cell_type": "code",
   "execution_count": 3,
   "metadata": {
    "colab": {
     "base_uri": "https://localhost:8080/"
    },
    "executionInfo": {
     "elapsed": 3154,
     "status": "ok",
     "timestamp": 1604416660605,
     "user": {
      "displayName": "Nitin Varshney",
      "photoUrl": "",
      "userId": "06389275563252613832"
     },
     "user_tz": -330
    },
    "id": "QirogVqdrUsK",
    "outputId": "4d398fa4-69bd-4499-d8b4-ee8b16254e06",
    "scrolled": false
   },
   "outputs": [
    {
     "name": "stdout",
     "output_type": "stream",
     "text": [
      "The p-value is 0.0012\n"
     ]
    }
   ],
   "source": [
    "print(\"The p-value is\",round(stats.binom_test(x = 39 , n = 31000, p = 0.002 , alternative = \"less\" ),4))"
   ]
  },
  {
   "cell_type": "markdown",
   "metadata": {
    "id": "RJu5aB9nrUsY"
   },
   "source": [
    "Because the p-value (0.0012) is less than 0.05, we reject the null hypothesis i.e. we have sufficient evidence to say the mammography reduces the risk of death from breast cancer."
   ]
  },
  {
   "cell_type": "code",
   "execution_count": 4,
   "metadata": {
    "id": "xxGxYS0trUsm"
   },
   "outputs": [],
   "source": [
    "n = 31000\n",
    "p = 0.002\n",
    "k = np.arange(0,200)\n",
    "dist  = [binom.pmf(i, n, p) for i in k]  #prob mass function"
   ]
  },
  {
   "cell_type": "code",
   "execution_count": 6,
   "metadata": {
    "colab": {
     "base_uri": "https://localhost:8080/",
     "height": 334
    },
    "executionInfo": {
     "elapsed": 1863,
     "status": "ok",
     "timestamp": 1604416877501,
     "user": {
      "displayName": "Nitin Varshney",
      "photoUrl": "",
      "userId": "06389275563252613832"
     },
     "user_tz": -330
    },
    "id": "IEBifcs4rUsy",
    "outputId": "e04e0831-1b03-4213-b3c7-ecfee755c7ac"
   },
   "outputs": [
    {
     "data": {
      "image/png": "[encoded data removed]",
      "text/plain": [
       "<Figure size 720x360 with 1 Axes>"
      ]
     },
     "metadata": {
      "needs_background": "light"
     },
     "output_type": "display_data"
    }
   ],
   "source": [
    "plt.figure(figsize=(10,5))\n",
    "plt.bar(k, dist)\n",
    "plt.axvline(39, color='red', linestyle='-', linewidth=1)\n",
    "plt.xlabel(\"x-value\")\n",
    "plt.ylabel(\"density\") #probability \n",
    "plt.show()"
   ]
  },
  {
   "cell_type": "markdown",
   "metadata": {},
   "source": [
    "Red line is 39 which is treatment group value. Based on null hypothesis value. It's at the tail of the distribution. Therefore it probably comes from a different distribution. "
   ]
  },
  {
   "cell_type": "markdown",
   "metadata": {
    "id": "ySnGoknhrUs7"
   },
   "source": [
    "#### Normal Distribution"
   ]
  },
  {
   "cell_type": "markdown",
   "metadata": {
    "id": "0r77WzX6rUs8"
   },
   "source": [
    "**Null hypothesis (H0): π = 0.002**\n",
    "\n",
    "**Alternative (HA): π < 0.002**"
   ]
  },
  {
   "cell_type": "markdown",
   "metadata": {
    "id": "8YbVZHInrUs9"
   },
   "source": [
    "* count: the number of successes in trials/observations\n",
    "* nobs: the number of trials/observations\n",
    "* value: value of the null hypothesis(proportion)"
   ]
  },
  {
   "cell_type": "code",
   "execution_count": 7,
   "metadata": {
    "id": "YeJphWHArUs-"
   },
   "outputs": [],
   "source": [
    "stat , pvalue = proportions_ztest(count=39, nobs=31000,value=0.002,alternative=\"smaller\")"
   ]
  },
  {
   "cell_type": "code",
   "execution_count": 8,
   "metadata": {
    "colab": {
     "base_uri": "https://localhost:8080/"
    },
    "executionInfo": {
     "elapsed": 1471,
     "status": "ok",
     "timestamp": 1604416878693,
     "user": {
      "displayName": "Nitin Varshney",
      "photoUrl": "",
      "userId": "06389275563252613832"
     },
     "user_tz": -330
    },
    "id": "8m9FOHRLrUtF",
    "outputId": "ca728c1b-a01a-4fed-97d4-dec074f62bc8"
   },
   "outputs": [
    {
     "name": "stdout",
     "output_type": "stream",
     "text": [
      "The p-value is 0.00011423176454888235\n"
     ]
    }
   ],
   "source": [
    "print(\"The p-value is\",pvalue)"
   ]
  },
  {
   "cell_type": "markdown",
   "metadata": {
    "id": "IRqdhealrUtL"
   },
   "source": [
    "Because the p-value (0.00011) is less than 0.05, we reject the null hypothesis i.e. we have sufficient evidence to say the mammography reduces the risk of death from breast cancer."
   ]
  },
  {
   "cell_type": "markdown",
   "metadata": {
    "id": "4NTmyd88s569"
   },
   "source": [
    "**Hence we can conclude that this study suggests that offering mammography is indeed helpful and can reduce the risk of death from Breast Cancer.**"
   ]
  }
 ],
 "metadata": {
  "colab": {
   "name": "Hypothesis Testing.ipynb",
   "provenance": []
  },
  "kernelspec": {
   "display_name": "Python 3",
   "language": "python",
   "name": "python3"
  },
  "language_info": {
   "codemirror_mode": {
    "name": "ipython",
    "version": 3
   },
   "file_extension": ".py",
   "mimetype": "text/x-python",
   "name": "python",
   "nbconvert_exporter": "python",
   "pygments_lexer": "ipython3",
   "version": "3.7.4"
  },
  "toc": {
   "base_numbering": 1,
   "nav_menu": {},
   "number_sections": true,
   "sideBar": true,
   "skip_h1_title": false,
   "title_cell": "Table of Contents",
   "title_sidebar": "Contents",
   "toc_cell": false,
   "toc_position": {},
   "toc_section_display": true,
   "toc_window_display": false
  }
 },
 "nbformat": 4,
 "nbformat_minor": 1
}
